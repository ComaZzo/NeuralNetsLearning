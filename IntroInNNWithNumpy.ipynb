{
  "nbformat": 4,
  "nbformat_minor": 0,
  "metadata": {
    "colab": {
      "name": "Untitled1.ipynb",
      "provenance": [],
      "authorship_tag": "ABX9TyOMRQlln8pO7R5pJ9hiYKon",
      "include_colab_link": true
    },
    "kernelspec": {
      "name": "python3",
      "display_name": "Python 3"
    }
  },
  "cells": [
    {
      "cell_type": "markdown",
      "metadata": {
        "id": "view-in-github",
        "colab_type": "text"
      },
      "source": [
        "<a href=\"https://colab.research.google.com/github/ComaZzo/NeuralNetsLearning/blob/master/IntroInNNWithNumpy.ipynb\" target=\"_parent\"><img src=\"https://colab.research.google.com/assets/colab-badge.svg\" alt=\"Open In Colab\"/></a>"
      ]
    },
    {
      "cell_type": "code",
      "metadata": {
        "id": "TYqqLoBgrBZr",
        "colab_type": "code",
        "colab": {
          "base_uri": "https://localhost:8080/",
          "height": 34
        },
        "outputId": "672860a9-8d7f-4bf5-f3fa-f763ce3a53d6"
      },
      "source": [
        "# The network:\n",
        "\n",
        "weight = 0.1 \n",
        "def neural_network(input, weight):\n",
        "    prediction = input * weight\n",
        "    return prediction\n",
        "\n",
        "# How we use the network to predict something:\n",
        "\n",
        "number_of_toes = [8.5, 9.5, 10, 9]\n",
        "input = number_of_toes[0]\n",
        "pred = neural_network(input,weight)\n",
        "print(pred)"
      ],
      "execution_count": 72,
      "outputs": [
        {
          "output_type": "stream",
          "text": [
            "0.8500000000000001\n"
          ],
          "name": "stdout"
        }
      ]
    },
    {
      "cell_type": "code",
      "metadata": {
        "id": "r3WC2VnJ7t4b",
        "colab_type": "code",
        "colab": {
          "base_uri": "https://localhost:8080/",
          "height": 34
        },
        "outputId": "db70c05f-0fd0-47b6-a451-c6ffd6abc72d"
      },
      "source": [
        "def w_sum(a,b):\n",
        "    assert(len(a) == len(b))\n",
        "    output = 0\n",
        "    for i in range(len(a)):\n",
        "        output += (a[i] * b[i])\n",
        "    return output\n",
        "\n",
        "weights = [0.1, 0.2, 0] \n",
        "    \n",
        "def neural_network(input, weights):\n",
        "    pred = w_sum(input,weights)\n",
        "    return pred\n",
        "\n",
        "# This dataset is the current\n",
        "# status at the beginning of\n",
        "# each game for the first 4 games\n",
        "# in a season.\n",
        "\n",
        "# toes = current number of toes\n",
        "# wlrec = current games won (percent)\n",
        "# nfans = fan count (in millions)\n",
        "\n",
        "toes =  [8.5, 9.5, 9.9, 9.0]\n",
        "wlrec = [0.65, 0.8, 0.8, 0.9]\n",
        "nfans = [1.2, 1.3, 0.5, 1.0]\n",
        "\n",
        "# Input corresponds to every entry\n",
        "# for the first game of the season.\n",
        "\n",
        "input = [toes[0],wlrec[0],nfans[0]]\n",
        "pred = neural_network(input,weights)\n",
        "\n",
        "print(pred)"
      ],
      "execution_count": 73,
      "outputs": [
        {
          "output_type": "stream",
          "text": [
            "0.9800000000000001\n"
          ],
          "name": "stdout"
        }
      ]
    },
    {
      "cell_type": "code",
      "metadata": {
        "id": "c6FJcPCC-FdH",
        "colab_type": "code",
        "colab": {}
      },
      "source": [
        "def elementwise_multiplication(vec_a, vec_b):\n",
        "  vec_c = []\n",
        "  if len(vec_a) == len(vec_b):\n",
        "    for i in range(len(vec_a)):\n",
        "      vec_c.append(vec_a[i] * vec_b[i])\n",
        "  return vec_c\n",
        "  "
      ],
      "execution_count": 0,
      "outputs": []
    },
    {
      "cell_type": "code",
      "metadata": {
        "id": "_LQFI5n9_Dwq",
        "colab_type": "code",
        "colab": {
          "base_uri": "https://localhost:8080/",
          "height": 34
        },
        "outputId": "05d29079-3d81-4fc3-ba18-d886496d58c2"
      },
      "source": [
        "print(elementwise_multiplication(toes, wlrec))"
      ],
      "execution_count": 75,
      "outputs": [
        {
          "output_type": "stream",
          "text": [
            "[5.525, 7.6000000000000005, 7.920000000000001, 8.1]\n"
          ],
          "name": "stdout"
        }
      ]
    },
    {
      "cell_type": "code",
      "metadata": {
        "id": "O_d7jAZp_ouK",
        "colab_type": "code",
        "colab": {}
      },
      "source": [
        "def elementwise_addition(vec_a, vec_b):\n",
        "  vec_c = []\n",
        "  if len(vec_a) == len(vec_b):\n",
        "    for i in range(len(vec_a)):\n",
        "      vec_c.append(vec_a[i] + vec_b[i])\n",
        "  return vec_c"
      ],
      "execution_count": 0,
      "outputs": []
    },
    {
      "cell_type": "code",
      "metadata": {
        "id": "h1KnodEu_2zu",
        "colab_type": "code",
        "colab": {
          "base_uri": "https://localhost:8080/",
          "height": 34
        },
        "outputId": "81bc3395-6ac9-4d9b-bbe4-967fca280986"
      },
      "source": [
        "print(elementwise_addition(toes, wlrec))"
      ],
      "execution_count": 77,
      "outputs": [
        {
          "output_type": "stream",
          "text": [
            "[9.15, 10.3, 10.700000000000001, 9.9]\n"
          ],
          "name": "stdout"
        }
      ]
    },
    {
      "cell_type": "code",
      "metadata": {
        "id": "5gF9SlTaAwZe",
        "colab_type": "code",
        "colab": {}
      },
      "source": [
        "def vector_sum(vec_a):\n",
        "  res = 0\n",
        "  for elem in vec_a:\n",
        "    res += elem\n",
        "  return res"
      ],
      "execution_count": 0,
      "outputs": []
    },
    {
      "cell_type": "code",
      "metadata": {
        "id": "XdGKa5xGBFQw",
        "colab_type": "code",
        "colab": {
          "base_uri": "https://localhost:8080/",
          "height": 34
        },
        "outputId": "9ca30133-6b9d-4368-ec14-fa36ffe830b0"
      },
      "source": [
        "print(vector_sum(toes))"
      ],
      "execution_count": 79,
      "outputs": [
        {
          "output_type": "stream",
          "text": [
            "36.9\n"
          ],
          "name": "stdout"
        }
      ]
    },
    {
      "cell_type": "code",
      "metadata": {
        "id": "rVMP1-vBBmmp",
        "colab_type": "code",
        "colab": {}
      },
      "source": [
        "def vector_average(vec_a):\n",
        "  sum = vector_sum(vec_a)\n",
        "  return sum / len(vec_a)"
      ],
      "execution_count": 0,
      "outputs": []
    },
    {
      "cell_type": "code",
      "metadata": {
        "id": "5XgqiyT2B5Pt",
        "colab_type": "code",
        "colab": {
          "base_uri": "https://localhost:8080/",
          "height": 34
        },
        "outputId": "c09542da-204e-4488-824a-369a16e1b0e6"
      },
      "source": [
        "print(vector_average(toes))"
      ],
      "execution_count": 81,
      "outputs": [
        {
          "output_type": "stream",
          "text": [
            "9.225\n"
          ],
          "name": "stdout"
        }
      ]
    },
    {
      "cell_type": "code",
      "metadata": {
        "id": "xk__ELl4DYZx",
        "colab_type": "code",
        "colab": {}
      },
      "source": [
        "def scalar_multiplication(vec_a, vec_b):\n",
        "  return vector_sum(elementwise_multiplication(vec_a, vec_b))"
      ],
      "execution_count": 0,
      "outputs": []
    },
    {
      "cell_type": "code",
      "metadata": {
        "id": "m6Lvtl1fD2ph",
        "colab_type": "code",
        "colab": {
          "base_uri": "https://localhost:8080/",
          "height": 34
        },
        "outputId": "f360579c-9b6a-4718-9ce1-d9e27c14f96e"
      },
      "source": [
        "scalar_multiplication(toes, wlrec)"
      ],
      "execution_count": 83,
      "outputs": [
        {
          "output_type": "execute_result",
          "data": {
            "text/plain": [
              "29.145000000000003"
            ]
          },
          "metadata": {
            "tags": []
          },
          "execution_count": 83
        }
      ]
    },
    {
      "cell_type": "code",
      "metadata": {
        "id": "Nz7UtGKXIM1r",
        "colab_type": "code",
        "colab": {
          "base_uri": "https://localhost:8080/",
          "height": 34
        },
        "outputId": "85218148-12de-4c7b-d3bd-2fadebe721d6"
      },
      "source": [
        "import numpy as np\n",
        "weights = np.array([0.1, 0.2, 0])\n",
        "def neural_network(input, weights):\n",
        "    pred = input.dot(weights)\n",
        "    return pred\n",
        "    \n",
        "toes =  np.array([8.5, 9.5, 9.9, 9.0])\n",
        "wlrec = np.array([0.65, 0.8, 0.8, 0.9])\n",
        "nfans = np.array([1.2, 1.3, 0.5, 1.0])\n",
        "\n",
        "# Input corresponds to every entry\n",
        "# for the first game of the season.\n",
        "\n",
        "input = np.array([toes[0],wlrec[0],nfans[0]])\n",
        "pred = neural_network(input,weights)\n",
        "\n",
        "print(pred)"
      ],
      "execution_count": 84,
      "outputs": [
        {
          "output_type": "stream",
          "text": [
            "0.9800000000000001\n"
          ],
          "name": "stdout"
        }
      ]
    },
    {
      "cell_type": "code",
      "metadata": {
        "id": "slcROY3IIurE",
        "colab_type": "code",
        "colab": {
          "base_uri": "https://localhost:8080/",
          "height": 34
        },
        "outputId": "0c4b29c2-16f5-4c88-ccf3-68b2a1dd4ec1"
      },
      "source": [
        "# Instead of predicting just \n",
        "# whether the team won or lost, \n",
        "# now we're also predicting whether\n",
        "# they are happy/sad AND the percentage\n",
        "# of the team that is hurt. We are\n",
        "# making this prediction using only\n",
        "# the current win/loss record.\n",
        "\n",
        "def ele_mul(number,vector):\n",
        "    output = [0,0,0]\n",
        "    assert(len(output) == len(vector))\n",
        "    for i in range(len(vector)):\n",
        "        output[i] = number * vector[i]\n",
        "    return output\n",
        "\n",
        "weights = [0.3, 0.2, 0.9] \n",
        "\n",
        "def neural_network(input, weights):\n",
        "    pred = ele_mul(input,weights)\n",
        "    return pred\n",
        "    \n",
        "wlrec = [0.65, 0.8, 0.8, 0.9]\n",
        "input = wlrec[0]\n",
        "pred = neural_network(input,weights)\n",
        "\n",
        "print(pred)"
      ],
      "execution_count": 85,
      "outputs": [
        {
          "output_type": "stream",
          "text": [
            "[0.195, 0.13, 0.5850000000000001]\n"
          ],
          "name": "stdout"
        }
      ]
    },
    {
      "cell_type": "code",
      "metadata": {
        "id": "CQqnBaLjP1qg",
        "colab_type": "code",
        "colab": {
          "base_uri": "https://localhost:8080/",
          "height": 34
        },
        "outputId": "1bc39f4c-01ab-464f-bec0-bbd0ade1bca3"
      },
      "source": [
        "            #toes %win #fans\n",
        "weights = [ [0.1, 0.1, -0.3], #hurt?\n",
        "            [0.1, 0.2, 0.0], #win?\n",
        "            [0.0, 1.3, 0.1] ] #sad?\n",
        "\n",
        "def w_sum(a,b):\n",
        "    assert(len(a) == len(b))\n",
        "    output = 0\n",
        "    for i in range(len(a)):\n",
        "        output += (a[i] * b[i])\n",
        "    return output\n",
        "\n",
        "def vect_mat_mul(vect,matrix):\n",
        "    assert(len(vect) == len(matrix))\n",
        "    output = [0,0,0]\n",
        "    for i in range(len(vect)):\n",
        "        output[i] = w_sum(vect,matrix[i])\n",
        "    return output\n",
        "\n",
        "def neural_network(input, weights):\n",
        "    pred = vect_mat_mul(input,weights)\n",
        "    return pred\n",
        "\n",
        "# This dataset is the current\n",
        "# status at the beginning of\n",
        "# each game for the first 4 games\n",
        "# in a season.\n",
        "\n",
        "# toes = current number of toes\n",
        "# wlrec = current games won (percent)\n",
        "# nfans = fan count (in millions)\n",
        "\n",
        "toes =  [8.5, 9.5, 9.9, 9.0]\n",
        "wlrec = [0.65,0.8, 0.8, 0.9]\n",
        "nfans = [1.2, 1.3, 0.5, 1.0]\n",
        "\n",
        "# Input corresponds to every entry\n",
        "# for the first game of the season.\n",
        "\n",
        "input = [toes[0],wlrec[0],nfans[0]]\n",
        "pred = neural_network(input,weights)\n",
        "\n",
        "print(pred)"
      ],
      "execution_count": 86,
      "outputs": [
        {
          "output_type": "stream",
          "text": [
            "[0.555, 0.9800000000000001, 0.9650000000000001]\n"
          ],
          "name": "stdout"
        }
      ]
    },
    {
      "cell_type": "code",
      "metadata": {
        "id": "GkSfM7YWSbtM",
        "colab_type": "code",
        "colab": {
          "base_uri": "https://localhost:8080/",
          "height": 34
        },
        "outputId": "a47f6189-7c3b-4280-ce27-f79006ceb2ff"
      },
      "source": [
        "#toes %win #fans\n",
        "ih_wgt = [ [0.1, 0.2, -0.1], #hid[0]\n",
        "           [-0.1,0.1, 0.9], #hid[1]\n",
        "           [0.1, 0.4, 0.1] ] #hid[2]\n",
        "\n",
        "           #hid[0] hid[1] hid[2]\n",
        "hp_wgt = [ [0.3, 1.1, -0.3], #hurt?\n",
        "           [0.1, 0.2, 0.0], #win?\n",
        "           [0.0, 1.3, 0.1] ] #sad?\n",
        "\n",
        "weights = [ih_wgt, hp_wgt]\n",
        "\n",
        "def neural_network(input, weights):\n",
        "    hid = vect_mat_mul(input,weights[0])\n",
        "    pred = vect_mat_mul(hid,weights[1])\n",
        "    return pred\n",
        "\n",
        "toes =  [8.5, 9.5, 9.9, 9.0]\n",
        "wlrec = [0.65,0.8, 0.8, 0.9]\n",
        "nfans = [1.2, 1.3, 0.5, 1.0]\n",
        "\n",
        "# Input corresponds to every entry\n",
        "# for the first game of the season.\n",
        "\n",
        "input = [toes[0],wlrec[0],nfans[0]]\n",
        "pred = neural_network(input,weights)\n",
        "\n",
        "print(pred)"
      ],
      "execution_count": 87,
      "outputs": [
        {
          "output_type": "stream",
          "text": [
            "[0.21350000000000002, 0.14500000000000002, 0.5065]\n"
          ],
          "name": "stdout"
        }
      ]
    },
    {
      "cell_type": "code",
      "metadata": {
        "id": "S8W9Z1LPS7eA",
        "colab_type": "code",
        "colab": {
          "base_uri": "https://localhost:8080/",
          "height": 34
        },
        "outputId": "bae392c1-63ed-47ed-e498-28980794a17c"
      },
      "source": [
        "import numpy as np\n",
        "\n",
        "#toes %win #fans\n",
        "ih_wgt = np.array([ \n",
        "            [0.1, 0.2, -0.1], #hid[0]\n",
        "            [-0.1,0.1, 0.9], #hid[1]\n",
        "            [0.1, 0.4, 0.1]]).T #hid[2]\n",
        "\n",
        "\n",
        "# hid[0] hid[1] hid[2]\n",
        "hp_wgt = np.array([  \n",
        "            [0.3, 1.1, -0.3], #hurt?\n",
        "            [0.1, 0.2, 0.0], #win?\n",
        "            [0.0, 1.3, 0.1] ]).T #sad?\n",
        "\n",
        "weights = [ih_wgt, hp_wgt]\n",
        "\n",
        "def neural_network(input, weights):\n",
        "\n",
        "    hid = input.dot(weights[0])\n",
        "    pred = hid.dot(weights[1])\n",
        "    return pred\n",
        "\n",
        "\n",
        "toes =  np.array([8.5, 9.5, 9.9, 9.0])\n",
        "wlrec = np.array([0.65,0.8, 0.8, 0.9])\n",
        "nfans = np.array([1.2, 1.3, 0.5, 1.0])\n",
        "\n",
        "input = np.array([toes[0],wlrec[0],nfans[0]])\n",
        "\n",
        "pred = neural_network(input,weights)\n",
        "print(pred)"
      ],
      "execution_count": 88,
      "outputs": [
        {
          "output_type": "stream",
          "text": [
            "[0.2135 0.145  0.5065]\n"
          ],
          "name": "stdout"
        }
      ]
    },
    {
      "cell_type": "code",
      "metadata": {
        "id": "thocYFyFVcYW",
        "colab_type": "code",
        "colab": {}
      },
      "source": [
        "import numpy as np\n",
        "\n",
        "a = np.array([0,1,2,3]) # a vector\n",
        "b = np.array([4,5,6,7]) # another vector\n",
        "c = np.array([[0,1,2,3], # a matrix\n",
        "              [4,5,6,7]])\n",
        "\n",
        "d = np.zeros((2,4)) # (2x4 matrix of zeros)\n",
        "e = np.random.rand(2,5) # random 2x5\n",
        "# matrix with all numbers between 0 and 1\n",
        "\n",
        "print(a)\n",
        "print(b)\n",
        "print(c)\n",
        "print(d)\n",
        "print(e)"
      ],
      "execution_count": 0,
      "outputs": []
    },
    {
      "cell_type": "code",
      "metadata": {
        "id": "OnfXaJY7Vdnd",
        "colab_type": "code",
        "colab": {}
      },
      "source": [
        "print(a * 0.1) # multiplies every number in vector \"a\" by 0.1\n",
        "      \n",
        "print(c * 0.2) # multiplies every number in matrix \"c\" by 0.2\n",
        "      \n",
        "print(a * b) # multiplies elementwise between a and b (columns paired up)\n",
        "      \n",
        "print(a * b * 0.2) # elementwise multiplication then multiplied by 0.2\n",
        "      \n",
        "print(a * c) # since c has the same number of columns as a, this performs\n",
        "# elementwise multiplication on every row of the matrix \"c\"\n",
        "\n",
        "print(a * e) # since a and e don't have the same number of columns, this\n",
        "# throws a \"Value Error: operands could not be broadcast together with..\""
      ],
      "execution_count": 0,
      "outputs": []
    },
    {
      "cell_type": "code",
      "metadata": {
        "id": "Enlq78ELVkBq",
        "colab_type": "code",
        "colab": {}
      },
      "source": [
        "\n",
        "a = np.zeros((1,4)) # vector of length 4\n",
        "b = np.zeros((4,3)) # matrix with 4 rows & 3 columns\n",
        "\n",
        "c = a.dot(b)\n",
        "print(c.shape)"
      ],
      "execution_count": 0,
      "outputs": []
    },
    {
      "cell_type": "code",
      "metadata": {
        "id": "jkgkGMOfVlBj",
        "colab_type": "code",
        "colab": {}
      },
      "source": [
        "a = np.zeros((2,4)) # matrix with 2 rows and 4 columns\n",
        "b = np.zeros((4,3)) # matrix with 4 rows & 3 columns\n",
        "\n",
        "c = a.dot(b)\n",
        "print(c.shape) # outputs (2,3)\n",
        "\n",
        "e = np.zeros((2,1)) # matrix with 2 rows and 1 columns\n",
        "f = np.zeros((1,3)) # matrix with 1 row & 3 columns\n",
        "\n",
        "g = e.dot(f)\n",
        "print(g.shape) # outputs (2,3)\n",
        "\n",
        "h = np.zeros((5,4)).T # matrix with 4 rows and 5 columns\n",
        "i = np.zeros((5,6)) # matrix with 6 rows & 5 columns\n",
        "\n",
        "j = h.dot(i)\n",
        "print(j.shape) # outputs (4,6)\n",
        "\n",
        "h = np.zeros((5,4)) # matrix with 5 rows and 4 columns\n",
        "i = np.zeros((5,6)) # matrix with 5 rows & 6 columns\n",
        "j = h.dot(i)\n",
        "print(j.shape) # throws an error"
      ],
      "execution_count": 0,
      "outputs": []
    }
  ]
}